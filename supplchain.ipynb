{
  "nbformat": 4,
  "nbformat_minor": 0,
  "metadata": {
    "colab": {
      "provenance": []
    },
    "kernelspec": {
      "name": "python3",
      "display_name": "Python 3"
    },
    "language_info": {
      "name": "python"
    }
  },
  "cells": [
    {
      "cell_type": "code",
      "execution_count": null,
      "metadata": {
        "id": "APpfz6z5GVaQ"
      },
      "outputs": [],
      "source": [
        "import pandas as pd\n",
        "import numpy as np\n",
        "import matplotlib.pyplot as plt\n",
        "import seaborn as sns\n",
        "from sklearn.model_selection import train_test_split\n",
        "from sklearn.preprocessing import StandardScaler\n",
        "from sklearn.metrics import mean_squared_error\n",
        "\n",
        "import tensorflow as tf\n",
        "from tensorflow.keras.models import Sequential\n",
        "from tensorflow.keras.layers import Dense\n",
        "from tensorflow.keras.losses import MeanSquaredError\n"
      ]
    },
    {
      "cell_type": "code",
      "source": [
        "df = pd.read_csv('/content/supply_chain_data.csv')\n",
        "print(\"Preview:\\n\", df.head())\n"
      ],
      "metadata": {
        "colab": {
          "base_uri": "https://localhost:8080/"
        },
        "id": "LInRvJTMJ_hU",
        "outputId": "49b96e32-ca06-4fc4-8f7d-2c42acd93fdd"
      },
      "execution_count": null,
      "outputs": [
        {
          "output_type": "stream",
          "name": "stdout",
          "text": [
            "Preview:\n",
            "   Product type   SKU      Price  Availability  Number of products sold  \\\n",
            "0     haircare  SKU0  69.808006            55                      802   \n",
            "1     skincare  SKU1  14.843523            95                      736   \n",
            "2     haircare  SKU2  11.319683            34                        8   \n",
            "3     skincare  SKU3  61.163343            68                       83   \n",
            "4     skincare  SKU4   4.805496            26                      871   \n",
            "\n",
            "   Revenue generated Customer demographics  Stock levels  Lead times  \\\n",
            "0        8661.996792            Non-binary            58           7   \n",
            "1        7460.900065                Female            53          30   \n",
            "2        9577.749626               Unknown             1          10   \n",
            "3        7766.836426            Non-binary            23          13   \n",
            "4        2686.505152            Non-binary             5           3   \n",
            "\n",
            "   Order quantities  ...  Location Lead time  Production volumes  \\\n",
            "0                96  ...    Mumbai        29                 215   \n",
            "1                37  ...    Mumbai        23                 517   \n",
            "2                88  ...    Mumbai        12                 971   \n",
            "3                59  ...   Kolkata        24                 937   \n",
            "4                56  ...     Delhi         5                 414   \n",
            "\n",
            "  Manufacturing lead time Manufacturing costs  Inspection results  \\\n",
            "0                      29           46.279879             Pending   \n",
            "1                      30           33.616769             Pending   \n",
            "2                      27           30.688019             Pending   \n",
            "3                      18           35.624741                Fail   \n",
            "4                       3           92.065161                Fail   \n",
            "\n",
            "   Defect rates  Transportation modes   Routes       Costs  \n",
            "0      0.226410                  Road  Route B  187.752075  \n",
            "1      4.854068                  Road  Route B  503.065579  \n",
            "2      4.580593                   Air  Route C  141.920282  \n",
            "3      4.746649                  Rail  Route A  254.776159  \n",
            "4      3.145580                   Air  Route A  923.440632  \n",
            "\n",
            "[5 rows x 24 columns]\n"
          ]
        }
      ]
    },
    {
      "cell_type": "code",
      "source": [
        "df = df.drop(columns=['SKU', 'Supplier name'])"
      ],
      "metadata": {
        "id": "TuoE-DZvKUxO"
      },
      "execution_count": null,
      "outputs": []
    },
    {
      "cell_type": "code",
      "source": [
        "df = df.dropna()"
      ],
      "metadata": {
        "id": "TjufFV8yK6ze"
      },
      "execution_count": null,
      "outputs": []
    },
    {
      "cell_type": "code",
      "source": [
        "target = 'Number of products sold'\n",
        "X = df.drop(columns=[target])\n",
        "y = df[target]\n"
      ],
      "metadata": {
        "id": "0t8Kn8YfK9nq"
      },
      "execution_count": null,
      "outputs": []
    },
    {
      "cell_type": "code",
      "source": [
        "X = pd.get_dummies(X, drop_first=True)"
      ],
      "metadata": {
        "id": "Wq8ZSvNXK-7s"
      },
      "execution_count": null,
      "outputs": []
    },
    {
      "cell_type": "code",
      "source": [
        "X_train, X_test, y_train, y_test = train_test_split(X, y, test_size=0.2, random_state=42)"
      ],
      "metadata": {
        "id": "7vGAZ9p-LBqu"
      },
      "execution_count": null,
      "outputs": []
    },
    {
      "cell_type": "code",
      "source": [
        "scaler = StandardScaler()\n",
        "X_train_scaled = scaler.fit_transform(X_train)\n",
        "X_test_scaled = scaler.transform(X_test)"
      ],
      "metadata": {
        "id": "eSKVBq1QLG8B"
      },
      "execution_count": null,
      "outputs": []
    },
    {
      "cell_type": "code",
      "source": [
        "model = Sequential([\n",
        "    Dense(128, activation='relu', input_shape=[X_train_scaled.shape[1]]),\n",
        "    Dense(64, activation='relu'),\n",
        "    Dense(32, activation='relu'),\n",
        "    Dense(1)\n",
        "])\n",
        "\n",
        "model.compile(optimizer='adam', loss='mse')\n",
        "history = model.fit(X_train_scaled, y_train, epochs=50, validation_split=0.2, verbose=0)\n"
      ],
      "metadata": {
        "colab": {
          "base_uri": "https://localhost:8080/"
        },
        "id": "tgrvgAcrLLHN",
        "outputId": "7f43357d-1a9b-48e3-dec5-9a130796aec4"
      },
      "execution_count": null,
      "outputs": [
        {
          "output_type": "stream",
          "name": "stderr",
          "text": [
            "/usr/local/lib/python3.11/dist-packages/keras/src/layers/core/dense.py:87: UserWarning: Do not pass an `input_shape`/`input_dim` argument to a layer. When using Sequential models, prefer using an `Input(shape)` object as the first layer in the model instead.\n",
            "  super().__init__(activity_regularizer=activity_regularizer, **kwargs)\n"
          ]
        }
      ]
    },
    {
      "cell_type": "code",
      "source": [
        "y_pred = model.predict(X_test_scaled).flatten()\n",
        "mse = mean_squared_error(y_test, y_pred)\n",
        "print(f\"\\n Mean Squared Error on Test Set: {mse:.2f}\")"
      ],
      "metadata": {
        "colab": {
          "base_uri": "https://localhost:8080/"
        },
        "id": "4Yk-AWorLqY1",
        "outputId": "7a13a747-3ee2-44d3-f89a-58e5fa0bc46a"
      },
      "execution_count": null,
      "outputs": [
        {
          "output_type": "stream",
          "name": "stdout",
          "text": [
            "\u001b[1m1/1\u001b[0m \u001b[32m━━━━━━━━━━━━━━━━━━━━\u001b[0m\u001b[37m\u001b[0m \u001b[1m0s\u001b[0m 138ms/step\n",
            "\n",
            " Mean Squared Error on Test Set: 143440.22\n"
          ]
        }
      ]
    },
    {
      "cell_type": "code",
      "source": [
        "plt.scatter(y_test, y_pred, alpha=0.5)\n",
        "plt.xlabel(\"True Sales\")\n",
        "plt.ylabel(\"Predicted Sales\")\n",
        "plt.title(\"True vs Predicted Number of Products Sold\")\n",
        "plt.grid(True)\n",
        "plt.show()\n"
      ],
      "metadata": {
        "colab": {
          "base_uri": "https://localhost:8080/",
          "height": 472
        },
        "id": "QRAeGP33Lt5v",
        "outputId": "fd63fbc2-9b65-4d17-9113-1b846407bf2c"
      },
      "execution_count": null,
      "outputs": [
        {
          "output_type": "display_data",
          "data": {
            "text/plain": [
              "<Figure size 640x480 with 1 Axes>"
            ],
            "image/png": "[encoded data removed]"
          },
          "metadata": {}
        }
      ]
    },
    {
      "cell_type": "code",
      "source": [
        "model.compile(optimizer='adam', loss=MeanSquaredError())\n",
        "\n",
        "# Train the model (same as before)\n",
        "history = model.fit(X_train_scaled, y_train, validation_split=0.2, epochs=50, verbose=0)\n",
        "\n",
        "# Save the model in the recommended .keras format\n",
        "model.save(\"demand_forecasting_model.keras\")\n",
        "\n",
        "# Load the model later (no errors expected)\n",
        "loaded_model = keras.models.load_model(\"demand_forecasting_model.keras\")\n",
        "\n",
        "# Predict using a random row from dataset\n",
        "sample = X.sample(1, random_state=1)\n",
        "scaled_sample = scaler.transform(sample)\n",
        "predicted_sales = loaded_model.predict(scaled_sample)[0][0]\n",
        "\n",
        "print(\"\\n Sample Input for Prediction:\")\n",
        "print(sample)\n",
        "print(f\"\\n Forecasted Number of Products Sold: {predicted_sales:.2f}\")"
      ],
      "metadata": {
        "colab": {
          "base_uri": "https://localhost:8080/"
        },
        "id": "Dx72RjcPLzQ9",
        "outputId": "359a33ef-4162-4845-f145-fe315a82571f"
      },
      "execution_count": null,
      "outputs": [
        {
          "output_type": "stream",
          "name": "stdout",
          "text": [
            "\u001b[1m1/1\u001b[0m \u001b[32m━━━━━━━━━━━━━━━━━━━━\u001b[0m\u001b[37m\u001b[0m \u001b[1m0s\u001b[0m 81ms/step\n",
            "\n",
            " Sample Input for Prediction:\n",
            "        Price  Availability  Revenue generated  Stock levels  Lead times  \\\n",
            "80  91.128318            75        8651.672683            39          14   \n",
            "\n",
            "    Order quantities  Shipping times  Shipping costs  Lead time  \\\n",
            "80                41               2        2.833185          8   \n",
            "\n",
            "    Production volumes  ...  Location_Delhi  Location_Kolkata  \\\n",
            "80                 202  ...           False             False   \n",
            "\n",
            "    Location_Mumbai  Inspection results_Pass  Inspection results_Pending  \\\n",
            "80            False                    False                       False   \n",
            "\n",
            "    Transportation modes_Rail  Transportation modes_Road  \\\n",
            "80                      False                      False   \n",
            "\n",
            "    Transportation modes_Sea  Routes_Route B  Routes_Route C  \n",
            "80                      True            True           False  \n",
            "\n",
            "[1 rows x 32 columns]\n",
            "\n",
            " Forecasted Number of Products Sold: 78.92\n"
          ]
        }
      ]
    }
  ]
}